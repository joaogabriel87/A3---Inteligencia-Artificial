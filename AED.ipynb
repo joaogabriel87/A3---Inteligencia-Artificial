{
  "nbformat": 4,
  "nbformat_minor": 0,
  "metadata": {
    "colab": {
      "provenance": [],
      "authorship_tag": "ABX9TyOuZaQYlx9NP2JX2EEbKyak",
      "include_colab_link": true
    },
    "kernelspec": {
      "name": "python3",
      "display_name": "Python 3"
    },
    "language_info": {
      "name": "python"
    }
  },
  "cells": [
    {
      "cell_type": "markdown",
      "metadata": {
        "id": "view-in-github",
        "colab_type": "text"
      },
      "source": [
        "<a href=\"https://colab.research.google.com/github/joaogabriel87/A3---Inteligencia-Artificial/blob/main/AED.ipynb\" target=\"_parent\"><img src=\"https://colab.research.google.com/assets/colab-badge.svg\" alt=\"Open In Colab\"/></a>"
      ]
    },
    {
      "cell_type": "code",
      "execution_count": 100,
      "metadata": {
        "id": "6w1avjO50QQ7"
      },
      "outputs": [],
      "source": [
        "import pandas as pd\n",
        "import matplotlib.pyplot as plt\n",
        "import seaborn as sns"
      ]
    },
    {
      "cell_type": "code",
      "source": [
        "#Carregar e padrozinar as colunas\n",
        "anos = range(2015,2023)\n",
        "dfs = []"
      ],
      "metadata": {
        "id": "uw0NcVgc089z"
      },
      "execution_count": 101,
      "outputs": []
    },
    {
      "cell_type": "code",
      "source": [
        "for ano in anos:\n",
        "    try:\n",
        "        df = pd.read_csv(f\"acidentes_{ano}.csv\", sep=\";\", encoding='utf-8')  # Try with encoding\n",
        "        df.rename(columns={\"data\": \"Data\"}, inplace=True)\n",
        "        df[\"Ano\"] = ano\n",
        "        dfs.append(df)\n",
        "        print(f\"Successfully loaded data for year {ano}\")  # Confirmation message\n",
        "    except Exception as e:\n",
        "        print(f\"Error reading file for year {ano}: {e}\")\n",
        "\n",
        "print(f\"Total DataFrames loaded: {len(dfs)}\")  # Check the number of loaded DataFrames"
      ],
      "metadata": {
        "colab": {
          "base_uri": "https://localhost:8080/"
        },
        "collapsed": true,
        "id": "-fRoMSC91DCP",
        "outputId": "73ed6229-dbe3-4517-e893-788c7ad184b5"
      },
      "execution_count": 102,
      "outputs": [
        {
          "output_type": "stream",
          "name": "stdout",
          "text": [
            "Successfully loaded data for year 2015\n",
            "Successfully loaded data for year 2016\n",
            "Successfully loaded data for year 2017\n",
            "Successfully loaded data for year 2018\n",
            "Successfully loaded data for year 2019\n",
            "Successfully loaded data for year 2020\n",
            "Successfully loaded data for year 2021\n",
            "Successfully loaded data for year 2022\n",
            "Total DataFrames loaded: 8\n"
          ]
        }
      ]
    },
    {
      "cell_type": "code",
      "source": [
        "#Concater todas\n",
        "df_principal = pd.concat(dfs, ignore_index=True)\n",
        "print(\"Anos disponivel:\", df_principal['Ano'].unique())"
      ],
      "metadata": {
        "colab": {
          "base_uri": "https://localhost:8080/"
        },
        "id": "54_4d7h01-1v",
        "outputId": "ea9ffdd8-ba2e-4e78-b94f-5d748c1037b3"
      },
      "execution_count": 103,
      "outputs": [
        {
          "output_type": "stream",
          "name": "stdout",
          "text": [
            "Anos disponivel: [2015 2016 2017 2018 2019 2020 2021 2022]\n"
          ]
        }
      ]
    },
    {
      "cell_type": "code",
      "source": [
        "df_2018_2019 = df_principal[(df_principal['Ano'] == 2018) | (df_principal['Ano'] == 2019)]\n",
        "\n",
        "df_2018_2019['Data'] = pd.to_datetime(df_2018_2019['Data'], format='%d/%m/%Y').dt.strftime('%Y-%m-%d')\n",
        "\n",
        "df_principal.loc[df_2018_2019.index, 'Data'] = df_2018_2019['Data']\n"
      ],
      "metadata": {
        "colab": {
          "base_uri": "https://localhost:8080/"
        },
        "collapsed": true,
        "id": "t85LshVHgZr5",
        "outputId": "6b822df3-8802-454c-f506-fb138fdddd78"
      },
      "execution_count": 104,
      "outputs": [
        {
          "output_type": "stream",
          "name": "stderr",
          "text": [
            "<ipython-input-104-d3adaae40c46>:3: SettingWithCopyWarning: \n",
            "A value is trying to be set on a copy of a slice from a DataFrame.\n",
            "Try using .loc[row_indexer,col_indexer] = value instead\n",
            "\n",
            "See the caveats in the documentation: https://pandas.pydata.org/pandas-docs/stable/user_guide/indexing.html#returning-a-view-versus-a-copy\n",
            "  df_2018_2019['Data'] = pd.to_datetime(df_2018_2019['Data'], format='%d/%m/%Y').dt.strftime('%Y-%m-%d')\n"
          ]
        }
      ]
    },
    {
      "cell_type": "code",
      "source": [
        "df_principal.to_excel(\"acidentes_2015_2022.xlsx\", index=False)"
      ],
      "metadata": {
        "collapsed": true,
        "id": "uproUZjSBrMC"
      },
      "execution_count": 105,
      "outputs": []
    },
    {
      "cell_type": "code",
      "source": [
        "#Limpeza\n",
        "df_principal['Data'] = pd.to_datetime(df_principal['Data'], errors='coerce')  # Converter datas\n",
        "df_principal.dropna(subset=['Data'], inplace=True)  # Remove linhas sem data\n",
        "\n"
      ],
      "metadata": {
        "collapsed": true,
        "id": "psfRvasR3CDW"
      },
      "execution_count": 106,
      "outputs": []
    },
    {
      "cell_type": "code",
      "source": [
        "#Analise e visualização\n",
        "acidentes_por_ano = df_principal['Ano'].value_counts().sort_index()\n",
        "plt.figure(figsize=(10, 6))\n",
        "sns.barplot(x=acidentes_por_ano.index, y=acidentes_por_ano.values)\n",
        "plt.title(\"Frequencia de Acidentes por ano\")\n",
        "plt.xlabel(\"Ano\")\n",
        "plt.ylabel(\"Numero de Acidentes\")\n",
        "plt.show()"
      ],
      "metadata": {
        "colab": {
          "base_uri": "https://localhost:8080/",
          "height": 564
        },
        "id": "R-Rfl8XD7qBs",
        "outputId": "67f94b09-3e44-4420-9c9a-e0c56197bf6e"
      },
      "execution_count": 107,
      "outputs": [
        {
          "output_type": "display_data",
          "data": {
            "text/plain": [
              "<Figure size 1000x600 with 1 Axes>"
            ],
            "image/png": "[encoded data removed]"
          },
          "metadata": {}
        }
      ]
    }
  ]
}