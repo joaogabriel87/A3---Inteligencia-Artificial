{
  "nbformat": 4,
  "nbformat_minor": 0,
  "metadata": {
    "colab": {
      "provenance": [],
      "gpuType": "T4",
      "authorship_tag": "ABX9TyPHkIYJiorgVwGYLtNtlA+9",
      "include_colab_link": true
    },
    "kernelspec": {
      "name": "python3",
      "display_name": "Python 3"
    },
    "language_info": {
      "name": "python"
    },
    "accelerator": "GPU"
  },
  "cells": [
    {
      "cell_type": "markdown",
      "metadata": {
        "id": "view-in-github",
        "colab_type": "text"
      },
      "source": [
        "<a href=\"https://colab.research.google.com/github/joaogabriel87/A3---Inteligencia-Artificial/blob/main/AED.ipynb\" target=\"_parent\"><img src=\"https://colab.research.google.com/assets/colab-badge.svg\" alt=\"Open In Colab\"/></a>"
      ]
    },
    {
      "cell_type": "code",
      "execution_count": 10,
      "metadata": {
        "id": "6w1avjO50QQ7"
      },
      "outputs": [],
      "source": [
        "import pandas as pd\n",
        "from sklearn.preprocessing import LabelEncoder"
      ]
    },
    {
      "cell_type": "code",
      "source": [
        "# Carregar e padronizar as colunas\n",
        "anos = range(2015, 2025)\n",
        "dfs = []"
      ],
      "metadata": {
        "id": "uw0NcVgc089z"
      },
      "execution_count": 11,
      "outputs": []
    },
    {
      "cell_type": "code",
      "source": [
        "for ano in anos:\n",
        "    try:\n",
        "        df = pd.read_csv(f\"acidentes_{ano}.csv\", sep=\";\", encoding='utf-8')  # Carregar arquivo\n",
        "        df.rename(columns={\"data\": \"Data\"}, inplace=True)  # Padronizar nomes de colunas\n",
        "        df[\"Ano\"] = ano  # Adicionar coluna de ano\n",
        "        dfs.append(df)\n",
        "        print(f\"Successfully loaded data for year {ano}\")  # Mensagem de confirmação\n",
        "    except Exception as e:\n",
        "        print(f\"Error reading file for year {ano}: {e}\")\n",
        "\n",
        "        # Verificar quantidade de DataFrames carregados\n",
        "print(f\"Total DataFrames loaded: {len(dfs)}\")"
      ],
      "metadata": {
        "colab": {
          "base_uri": "https://localhost:8080/"
        },
        "collapsed": true,
        "id": "-fRoMSC91DCP",
        "outputId": "cef3998d-9448-46e4-8463-b85ed36e48cb"
      },
      "execution_count": 12,
      "outputs": [
        {
          "output_type": "stream",
          "name": "stdout",
          "text": [
            "Successfully loaded data for year 2015\n",
            "Successfully loaded data for year 2016\n",
            "Successfully loaded data for year 2017\n",
            "Successfully loaded data for year 2018\n",
            "Successfully loaded data for year 2019\n",
            "Successfully loaded data for year 2020\n",
            "Successfully loaded data for year 2021\n",
            "Successfully loaded data for year 2022\n",
            "Successfully loaded data for year 2023\n",
            "Successfully loaded data for year 2024\n",
            "Total DataFrames loaded: 10\n"
          ]
        }
      ]
    },
    {
      "cell_type": "code",
      "source": [
        "# Concatenar todos os DataFrames\n",
        "df_principal = pd.concat(dfs, ignore_index=True)\n",
        "print(\"Anos disponíveis:\", df_principal['Ano'].unique())"
      ],
      "metadata": {
        "colab": {
          "base_uri": "https://localhost:8080/"
        },
        "id": "54_4d7h01-1v",
        "outputId": "353352d0-c169-4f32-aa37-b7a1479a0647"
      },
      "execution_count": 13,
      "outputs": [
        {
          "output_type": "stream",
          "name": "stdout",
          "text": [
            "Anos disponíveis: [2015 2016 2017 2018 2019 2020 2021 2022 2023 2024]\n"
          ]
        }
      ]
    },
    {
      "cell_type": "code",
      "source": [
        "# Padronizar datas\n",
        "df_2018_2019 = df_principal[(df_principal['Ano'] == 2018) | (df_principal['Ano'] == 2019)]\n",
        "df_2018_2019['Data'] = pd.to_datetime(df_2018_2019['Data'], format='%d/%m/%Y').dt.strftime('%Y-%m-%d')\n",
        "df_principal.loc[df_2018_2019.index, 'Data'] = df_2018_2019['Data']"
      ],
      "metadata": {
        "colab": {
          "base_uri": "https://localhost:8080/"
        },
        "collapsed": true,
        "id": "t85LshVHgZr5",
        "outputId": "6f146cd9-b12f-48e1-c3fb-70b71e72243b"
      },
      "execution_count": 14,
      "outputs": [
        {
          "output_type": "stream",
          "name": "stderr",
          "text": [
            "<ipython-input-14-3adda5d133cf>:3: SettingWithCopyWarning: \n",
            "A value is trying to be set on a copy of a slice from a DataFrame.\n",
            "Try using .loc[row_indexer,col_indexer] = value instead\n",
            "\n",
            "See the caveats in the documentation: https://pandas.pydata.org/pandas-docs/stable/user_guide/indexing.html#returning-a-view-versus-a-copy\n",
            "  df_2018_2019['Data'] = pd.to_datetime(df_2018_2019['Data'], format='%d/%m/%Y').dt.strftime('%Y-%m-%d')\n"
          ]
        }
      ]
    },
    {
      "cell_type": "code",
      "source": [
        "# Identificar colunas categóricas automaticamente\n",
        "colunas_categoricas = df_principal.select_dtypes(include=['object']).columns\n",
        "print(\"Colunas categóricas identificadas:\", colunas_categoricas)"
      ],
      "metadata": {
        "colab": {
          "base_uri": "https://localhost:8080/"
        },
        "id": "WZDyCNi3vsDq",
        "outputId": "c01b0e00-36e1-4eaf-9793-74ff91c07721",
        "collapsed": true
      },
      "execution_count": 15,
      "outputs": [
        {
          "output_type": "stream",
          "name": "stdout",
          "text": [
            "Colunas categóricas identificadas: Index(['tipo', 'situacao', 'Data', 'hora', 'bairro', 'endereco', 'numero',\n",
            "       'complemento', 'natureza', 'descricao', 'auto', 'moto', 'ciclom',\n",
            "       'ciclista', 'pedestre', 'onibus', 'caminhao', 'viatura', 'outros',\n",
            "       'vitimas', 'natureza_acidente', 'detalhe_endereco_acidente',\n",
            "       'endereco_cruzamento', 'numero_cruzamento', 'referencia_cruzamento',\n",
            "       'bairro_cruzamento', 'vitimasfatais', 'num_semaforo', 'sentido_via',\n",
            "       'acidente_verificado', 'tempo_clima', 'situacao_semaforo',\n",
            "       'sinalizacao', 'condicao_via', 'conservacao_via', 'ponto_controle',\n",
            "       'situacao_placa', 'velocidade_max_via', 'mao_direcao', 'divisao_via1',\n",
            "       'divisao_via2', 'divisao_via3', 'Protocolo'],\n",
            "      dtype='object')\n"
          ]
        }
      ]
    },
    {
      "cell_type": "code",
      "source": [
        "# Codificar as colunas categóricas usando Label Encoding\n",
        "label_encoders = {}\n",
        "for coluna in colunas_categoricas:\n",
        "    print(f\"Codificando a coluna: {coluna}\")\n",
        "    le = LabelEncoder()\n",
        "    try:\n",
        "        # Substituir NaN temporariamente, pois LabelEncoder não lida com valores nulos\n",
        "        df_principal[coluna] = le.fit_transform(df_principal[coluna].astype(str).fillna('null'))\n",
        "        label_encoders[coluna] = le  # Armazenar o codificador para uso futuro\n",
        "    except Exception as e:\n",
        "        print(f\"Erro ao codificar a coluna {coluna}: {e}\")\n"
      ],
      "metadata": {
        "colab": {
          "base_uri": "https://localhost:8080/"
        },
        "id": "naLSNz74Ozhf",
        "outputId": "20835703-7e41-4b25-cb57-b7ca908913d0",
        "collapsed": true
      },
      "execution_count": 16,
      "outputs": [
        {
          "output_type": "stream",
          "name": "stdout",
          "text": [
            "Codificando a coluna: tipo\n",
            "Codificando a coluna: situacao\n",
            "Codificando a coluna: Data\n",
            "Codificando a coluna: hora\n",
            "Codificando a coluna: bairro\n",
            "Codificando a coluna: endereco\n",
            "Codificando a coluna: numero\n",
            "Codificando a coluna: complemento\n",
            "Codificando a coluna: natureza\n",
            "Codificando a coluna: descricao\n",
            "Codificando a coluna: auto\n",
            "Codificando a coluna: moto\n",
            "Codificando a coluna: ciclom\n",
            "Codificando a coluna: ciclista\n",
            "Codificando a coluna: pedestre\n",
            "Codificando a coluna: onibus\n",
            "Codificando a coluna: caminhao\n",
            "Codificando a coluna: viatura\n",
            "Codificando a coluna: outros\n",
            "Codificando a coluna: vitimas\n",
            "Codificando a coluna: natureza_acidente\n",
            "Codificando a coluna: detalhe_endereco_acidente\n",
            "Codificando a coluna: endereco_cruzamento\n",
            "Codificando a coluna: numero_cruzamento\n",
            "Codificando a coluna: referencia_cruzamento\n",
            "Codificando a coluna: bairro_cruzamento\n",
            "Codificando a coluna: vitimasfatais\n",
            "Codificando a coluna: num_semaforo\n",
            "Codificando a coluna: sentido_via\n",
            "Codificando a coluna: acidente_verificado\n",
            "Codificando a coluna: tempo_clima\n",
            "Codificando a coluna: situacao_semaforo\n",
            "Codificando a coluna: sinalizacao\n",
            "Codificando a coluna: condicao_via\n",
            "Codificando a coluna: conservacao_via\n",
            "Codificando a coluna: ponto_controle\n",
            "Codificando a coluna: situacao_placa\n",
            "Codificando a coluna: velocidade_max_via\n",
            "Codificando a coluna: mao_direcao\n",
            "Codificando a coluna: divisao_via1\n",
            "Codificando a coluna: divisao_via2\n",
            "Codificando a coluna: divisao_via3\n",
            "Codificando a coluna: Protocolo\n"
          ]
        }
      ]
    },
    {
      "cell_type": "code",
      "source": [
        "# Substituir valores nulos restantes por uma string\n",
        "df_principal.fillna(\"null\", inplace=True)"
      ],
      "metadata": {
        "collapsed": true,
        "id": "Q08QVsihPrTp"
      },
      "execution_count": 17,
      "outputs": []
    },
    {
      "cell_type": "code",
      "source": [
        "# Verificar as primeiras linhas dos dados processados\n",
        "print(df_principal.head())"
      ],
      "metadata": {
        "colab": {
          "base_uri": "https://localhost:8080/"
        },
        "id": "eaHQIHoW0A0_",
        "outputId": "1886f132-2c13-4b74-e7db-16a3bf5dd2d0"
      },
      "execution_count": 18,
      "outputs": [
        {
          "output_type": "stream",
          "name": "stdout",
          "text": [
            "   tipo  situacao  Data  hora  bairro  endereco  numero  complemento  \\\n",
            "0    34         0   185  1227      31       161    6096        54117   \n",
            "1    34         8     0   624      49       254    6096        34954   \n",
            "2    34         8     0   801      17      1413    6096        52289   \n",
            "3    34         8     0   805       2       215    6096         1277   \n",
            "4    34         0     0   819      80       715    6096        17760   \n",
            "\n",
            "   natureza  descricao  ...  condicao_via  conservacao_via  ponto_controle  \\\n",
            "0         5       6170  ...             4                5               6   \n",
            "1         5      10197  ...             4                5               6   \n",
            "2         5       9943  ...             4                5               6   \n",
            "3         5       3740  ...             4                5               6   \n",
            "4         5       8393  ...             4                5               6   \n",
            "\n",
            "   situacao_placa  velocidade_max_via  mao_direcao  divisao_via1  \\\n",
            "0              37                  28            2            11   \n",
            "1              37                  28            2            11   \n",
            "2              37                  28            2            11   \n",
            "3              37                  28            2            11   \n",
            "4              37                  28            2            11   \n",
            "\n",
            "   divisao_via2  divisao_via3  Protocolo  \n",
            "0             8             8       8739  \n",
            "1             8             8       8739  \n",
            "2             8             8       8739  \n",
            "3             8             8       8739  \n",
            "4             8             8       8739  \n",
            "\n",
            "[5 rows x 44 columns]\n"
          ]
        }
      ]
    },
    {
      "cell_type": "code",
      "source": [
        "# Salvar o DataFrame processado em um novo arquivo CSV\n",
        "df_principal.to_csv(\"acidentes_2015_2024_label_encoded.csv\", index=False)"
      ],
      "metadata": {
        "id": "a_usWBRJQOyV",
        "collapsed": true,
        "colab": {
          "base_uri": "https://localhost:8080/"
        },
        "outputId": "fdb91fdf-b490-483a-d9a9-3c2e5855b6e1"
      },
      "execution_count": 19,
      "outputs": [
        {
          "output_type": "stream",
          "name": "stdout",
          "text": [
            "Arquivo salvo como 'acidentes_2015_2024_label_encoded.csv'.\n"
          ]
        }
      ]
    },
    {
      "cell_type": "code",
      "source": [],
      "metadata": {
        "id": "ajOWiKsdnGqt"
      },
      "execution_count": 7,
      "outputs": []
    }
  ]
}